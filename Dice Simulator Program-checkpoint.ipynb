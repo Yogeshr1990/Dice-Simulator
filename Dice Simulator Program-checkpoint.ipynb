{
 "cells": [
  {
   "cell_type": "markdown",
   "id": "433ea253",
   "metadata": {},
   "source": [
    "# Hello everyone, Welcome to the Dice simulator Program"
   ]
  },
  {
   "cell_type": "markdown",
   "id": "ce2d0ebb",
   "metadata": {},
   "source": [
    "#### Dice Simulator Program"
   ]
  },
  {
   "cell_type": "code",
   "execution_count": 1,
   "id": "04cad108",
   "metadata": {},
   "outputs": [
    {
     "name": "stdout",
     "output_type": "stream",
     "text": [
      "Welcome to the Dice Simulator Program\n",
      "\n",
      "Lets Begin!\n",
      "\n",
      "Number: 1 \n",
      "\n",
      "Do you want to roll dice again (y/n): y\n",
      "Number: 1 \n",
      "\n",
      "Do you want to roll dice again (y/n): y\n",
      "Number: 2 \n",
      "\n",
      "Do you want to roll dice again (y/n): y\n",
      "Number: 6 \n",
      "\n",
      "Do you want to roll dice again (y/n): y\n",
      "Number: 6 \n",
      "\n",
      "Do you want to roll dice again (y/n): y\n",
      "Number: 1 \n",
      "\n",
      "Do you want to roll dice again (y/n): y\n",
      "Number: 3 \n",
      "\n",
      "Do you want to roll dice again (y/n): y\n",
      "Number: 4 \n",
      "\n",
      "Do you want to roll dice again (y/n): n\n",
      "Bye!, Have a nice day\n"
     ]
    }
   ],
   "source": [
    "import random\n",
    "\n",
    "print('Welcome to the Dice Simulator Program\\n')\n",
    "\n",
    "again = True\n",
    "\n",
    "print('Lets Begin!\\n')\n",
    "\n",
    "while again:\n",
    "    print('Number:',random.randint(1,6),'\\n')\n",
    "    \n",
    "    a = input('Do you want to roll dice again (y/n): ')\n",
    "    if a.lower() == 'y':\n",
    "        continue\n",
    "    else:\n",
    "        print('Bye!, Have a nice day')\n",
    "        break"
   ]
  }
 ],
 "metadata": {
  "kernelspec": {
   "display_name": "Python 3 (ipykernel)",
   "language": "python",
   "name": "python3"
  },
  "language_info": {
   "codemirror_mode": {
    "name": "ipython",
    "version": 3
   },
   "file_extension": ".py",
   "mimetype": "text/x-python",
   "name": "python",
   "nbconvert_exporter": "python",
   "pygments_lexer": "ipython3",
   "version": "3.9.7"
  }
 },
 "nbformat": 4,
 "nbformat_minor": 5
}
